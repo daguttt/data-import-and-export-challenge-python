{
 "cells": [
  {
   "cell_type": "markdown",
   "id": "e1befb27",
   "metadata": {},
   "source": [
    "# Playground to try out code"
   ]
  },
  {
   "cell_type": "code",
   "execution_count": null,
   "id": "dabb3c01",
   "metadata": {},
   "outputs": [],
   "source": [
    "from pathlib import Path\n",
    "\n",
    "import pandas as pd\n",
    "\n",
    "customers_file_path = Path(\"../data/input/clientes.csv\")\n",
    "\n",
    "customers_df = pd.read_csv(customers_file_path)\n",
    "customers_df"
   ]
  },
  {
   "cell_type": "code",
   "execution_count": null,
   "id": "cbfb90fa",
   "metadata": {},
   "outputs": [],
   "source": [
    "type(customers_df)"
   ]
  },
  {
   "cell_type": "code",
   "execution_count": 4,
   "id": "1b474aa9",
   "metadata": {},
   "outputs": [
    {
     "data": {
      "text/html": [
       "<div>\n",
       "<style scoped>\n",
       "    .dataframe tbody tr th:only-of-type {\n",
       "        vertical-align: middle;\n",
       "    }\n",
       "\n",
       "    .dataframe tbody tr th {\n",
       "        vertical-align: top;\n",
       "    }\n",
       "\n",
       "    .dataframe thead th {\n",
       "        text-align: right;\n",
       "    }\n",
       "</style>\n",
       "<table border=\"1\" class=\"dataframe\">\n",
       "  <thead>\n",
       "    <tr style=\"text-align: right;\">\n",
       "      <th></th>\n",
       "      <th>name</th>\n",
       "      <th>email</th>\n",
       "      <th>country</th>\n",
       "      <th>created_at</th>\n",
       "      <th>status</th>\n",
       "    </tr>\n",
       "  </thead>\n",
       "  <tbody>\n",
       "    <tr>\n",
       "      <th>0</th>\n",
       "      <td>Misty Manning</td>\n",
       "      <td>patriciaedwards@example.com</td>\n",
       "      <td>Colombia</td>\n",
       "      <td>2023-12-20 21:25:49.890913</td>\n",
       "      <td>ACTIVE</td>\n",
       "    </tr>\n",
       "    <tr>\n",
       "      <th>1</th>\n",
       "      <td>Melinda Carr</td>\n",
       "      <td>bcasals@example.org</td>\n",
       "      <td>Argentina</td>\n",
       "      <td>2025-02-06 10:40:49.947300</td>\n",
       "      <td>INACTIVE</td>\n",
       "    </tr>\n",
       "    <tr>\n",
       "      <th>2</th>\n",
       "      <td>Christina Gray</td>\n",
       "      <td>allen57@example.org</td>\n",
       "      <td>Uruguay</td>\n",
       "      <td>2024-04-05 02:29:48.542632</td>\n",
       "      <td>PENDING</td>\n",
       "    </tr>\n",
       "    <tr>\n",
       "      <th>3</th>\n",
       "      <td>Ágata Tejedor Madrid</td>\n",
       "      <td>rafaelgoicoechea@example.com</td>\n",
       "      <td>Bolivia</td>\n",
       "      <td>2024-02-24 05:39:11.726649</td>\n",
       "      <td>INACTIVE</td>\n",
       "    </tr>\n",
       "    <tr>\n",
       "      <th>4</th>\n",
       "      <td>Melissa Gardner</td>\n",
       "      <td>omontserrat@example.com</td>\n",
       "      <td>Colombia</td>\n",
       "      <td>2023-12-03 19:53:31.041377</td>\n",
       "      <td>PENDING</td>\n",
       "    </tr>\n",
       "    <tr>\n",
       "      <th>...</th>\n",
       "      <td>...</td>\n",
       "      <td>...</td>\n",
       "      <td>...</td>\n",
       "      <td>...</td>\n",
       "      <td>...</td>\n",
       "    </tr>\n",
       "    <tr>\n",
       "      <th>996</th>\n",
       "      <td>Evangelina Pintor Bartolomé</td>\n",
       "      <td>ymartinez@example.org</td>\n",
       "      <td>Colombia</td>\n",
       "      <td>2023-11-30 00:14:38.211678</td>\n",
       "      <td>ACTIVE</td>\n",
       "    </tr>\n",
       "    <tr>\n",
       "      <th>997</th>\n",
       "      <td>Vera Marin Rosales</td>\n",
       "      <td>garciaerin@example.net</td>\n",
       "      <td>Venezuela</td>\n",
       "      <td>2023-08-23 11:10:40.523131</td>\n",
       "      <td>ACTIVE</td>\n",
       "    </tr>\n",
       "    <tr>\n",
       "      <th>998</th>\n",
       "      <td>Andrés Felipe Narváez</td>\n",
       "      <td>anunciacionbarba@example.org</td>\n",
       "      <td>Mexico</td>\n",
       "      <td>2024-03-20 19:35:55.431139</td>\n",
       "      <td>INACTIVE</td>\n",
       "    </tr>\n",
       "    <tr>\n",
       "      <th>999</th>\n",
       "      <td>Abigaíl Osorio</td>\n",
       "      <td>brandon18@example.org</td>\n",
       "      <td>Bolivia</td>\n",
       "      <td>2024-11-23 11:44:21.070556</td>\n",
       "      <td>ACTIVE</td>\n",
       "    </tr>\n",
       "    <tr>\n",
       "      <th>1000</th>\n",
       "      <td>Octavio Aroca Tello</td>\n",
       "      <td>wjones@example.org</td>\n",
       "      <td>Colombia</td>\n",
       "      <td>2024-11-20 09:00:26.855668</td>\n",
       "      <td>PENDING</td>\n",
       "    </tr>\n",
       "  </tbody>\n",
       "</table>\n",
       "<p>1001 rows × 5 columns</p>\n",
       "</div>"
      ],
      "text/plain": [
       "                             name                         email    country  \\\n",
       "0                   Misty Manning   patriciaedwards@example.com   Colombia   \n",
       "1                    Melinda Carr           bcasals@example.org  Argentina   \n",
       "2                  Christina Gray           allen57@example.org    Uruguay   \n",
       "3            Ágata Tejedor Madrid  rafaelgoicoechea@example.com    Bolivia   \n",
       "4                 Melissa Gardner       omontserrat@example.com   Colombia   \n",
       "...                           ...                           ...        ...   \n",
       "996   Evangelina Pintor Bartolomé         ymartinez@example.org   Colombia   \n",
       "997            Vera Marin Rosales        garciaerin@example.net  Venezuela   \n",
       "998         Andrés Felipe Narváez  anunciacionbarba@example.org     Mexico   \n",
       "999                Abigaíl Osorio         brandon18@example.org    Bolivia   \n",
       "1000          Octavio Aroca Tello            wjones@example.org   Colombia   \n",
       "\n",
       "                     created_at    status  \n",
       "0    2023-12-20 21:25:49.890913    ACTIVE  \n",
       "1    2025-02-06 10:40:49.947300  INACTIVE  \n",
       "2    2024-04-05 02:29:48.542632   PENDING  \n",
       "3    2024-02-24 05:39:11.726649  INACTIVE  \n",
       "4    2023-12-03 19:53:31.041377   PENDING  \n",
       "...                         ...       ...  \n",
       "996  2023-11-30 00:14:38.211678    ACTIVE  \n",
       "997  2023-08-23 11:10:40.523131    ACTIVE  \n",
       "998  2024-03-20 19:35:55.431139  INACTIVE  \n",
       "999  2024-11-23 11:44:21.070556    ACTIVE  \n",
       "1000 2024-11-20 09:00:26.855668   PENDING  \n",
       "\n",
       "[1001 rows x 5 columns]"
      ]
     },
     "execution_count": 4,
     "metadata": {},
     "output_type": "execute_result"
    }
   ],
   "source": [
    "from scripts.generate_sample_data import generate_sample_data\n",
    "\n",
    "generate_sample_data()"
   ]
  },
  {
   "cell_type": "code",
   "execution_count": 5,
   "id": "03775fe0",
   "metadata": {},
   "outputs": [],
   "source": [
    "from src.data_processor import DataProcessor\n",
    "\n",
    "processor = DataProcessor()"
   ]
  },
  {
   "cell_type": "code",
   "execution_count": 7,
   "id": "0ff7fbbd",
   "metadata": {},
   "outputs": [
    {
     "name": "stderr",
     "output_type": "stream",
     "text": [
      "2025-07-13 22:26:32,212 - INFO: Starting import from ./data/input/clientes.csv\n",
      "2025-07-13 22:26:32,338 - INFO: Processed chunk 1, rows: 1000\n",
      "2025-07-13 22:26:32,348 - INFO: Processed chunk 2, rows: 1\n",
      "2025-07-13 22:26:32,349 - INFO: Import completed. Total chunks: 2, Total rows: 1001\n"
     ]
    },
    {
     "data": {
      "text/plain": [
       "True"
      ]
     },
     "execution_count": 7,
     "metadata": {},
     "output_type": "execute_result"
    }
   ],
   "source": [
    "processor.import_csv_to_database(\"./data/input/clientes.csv\")"
   ]
  },
  {
   "cell_type": "code",
   "execution_count": 8,
   "id": "90d99885",
   "metadata": {},
   "outputs": [
    {
     "name": "stdout",
     "output_type": "stream",
     "text": [
      "Database Statistics:\n",
      "Total customers: 1001\n",
      "Clients by country (top 5):\n",
      "  Colombia: 323\n",
      "  Ecuador: 88\n",
      "  Bolivia: 87\n",
      "  Argentina: 84\n",
      "  Uruguay: 80\n",
      "Clients by status:\n",
      "  PENDING: 282\n",
      "  ACTIVE: 246\n",
      "  INACTIVE: 241\n",
      "  SUSPENDED: 232\n"
     ]
    }
   ],
   "source": [
    "print(\"Database Statistics:\")\n",
    "stats = processor.get_database_stats()\n",
    "if stats:\n",
    "    print(f\"Total customers: {stats['total_customers']}\")\n",
    "\n",
    "    print(\"Clients by country (top 5):\")\n",
    "    for country, count in list(stats[\"by_country\"].items())[:5]:\n",
    "        print(f\"  {country}: {count}\")\n",
    "\n",
    "    print(\"Clients by status:\")\n",
    "    for status, count in stats[\"by_status\"].items():\n",
    "        print(f\"  {status}: {count}\")\n"
   ]
  }
 ],
 "metadata": {
  "kernelspec": {
   "display_name": ".venv",
   "language": "python",
   "name": "python3"
  },
  "language_info": {
   "codemirror_mode": {
    "name": "ipython",
    "version": 3
   },
   "file_extension": ".py",
   "mimetype": "text/x-python",
   "name": "python",
   "nbconvert_exporter": "python",
   "pygments_lexer": "ipython3",
   "version": "3.13.2"
  }
 },
 "nbformat": 4,
 "nbformat_minor": 5
}
